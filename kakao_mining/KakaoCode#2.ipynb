{
 "cells": [
  {
   "cell_type": "code",
   "execution_count": 1,
   "metadata": {},
   "outputs": [],
   "source": [
    "import pandas as pd\n",
    "import numpy as np\n",
    "kakaos = range(1,2)\n",
    "pieces =[]\n",
    "\n",
    "for i in kakaos:   \n",
    "    path = 'kakao_data.txt'\n",
    "    kakao= pd.read_csv(path , error_bad_lines=False) # 읽어오기\n",
    "    pieces.append(kakao)\n",
    "       \n",
    "kakao_final = pd.concat(pieces, ignore_index=True) \n",
    "#kakao_final"
   ]
  },
  {
   "cell_type": "code",
   "execution_count": 2,
   "metadata": {},
   "outputs": [
    {
     "name": "stderr",
     "output_type": "stream",
     "text": [
      "C:\\Users\\kmlee\\AppData\\Local\\Continuum\\anaconda3\\lib\\site-packages\\ipykernel_launcher.py:2: DeprecationWarning: \n",
      ".ix is deprecated. Please use\n",
      ".loc for label based indexing or\n",
      ".iloc for positional indexing\n",
      "\n",
      "See the documentation here:\n",
      "http://pandas.pydata.org/pandas-docs/stable/indexing.html#ix-indexer-is-deprecated\n",
      "  \n",
      "C:\\Users\\kmlee\\AppData\\Local\\Continuum\\anaconda3\\lib\\site-packages\\ipykernel_launcher.py:3: DeprecationWarning: \n",
      ".ix is deprecated. Please use\n",
      ".loc for label based indexing or\n",
      ".iloc for positional indexing\n",
      "\n",
      "See the documentation here:\n",
      "http://pandas.pydata.org/pandas-docs/stable/indexing.html#ix-indexer-is-deprecated\n",
      "  This is separate from the ipykernel package so we can avoid doing imports until\n"
     ]
    }
   ],
   "source": [
    "#독립변수와 종속변수로 나눔\n",
    "kakao_final_x=kakao_final.ix[:,0:-1]\n",
    "kakao_final_y=kakao_final.ix[:,-1:]\n",
    "#kakao_final_x"
   ]
  },
  {
   "cell_type": "code",
   "execution_count": 3,
   "metadata": {},
   "outputs": [],
   "source": [
    "from sklearn.model_selection import train_test_split\n",
    "#70:30으로 훈련데이터와 테스트데이터를 나눔\n",
    "X_train, X_test, y_train, y_test=train_test_split(kakao_final_x,kakao_final_y, test_size=0.3, random_state=0)\n"
   ]
  },
  {
   "cell_type": "code",
   "execution_count": 4,
   "metadata": {},
   "outputs": [],
   "source": [
    "from sklearn.preprocessing import StandardScaler\n",
    "#정규화 과정\n",
    "sc = StandardScaler()\n",
    "sc.fit(X_train)\n",
    "X_train_std = sc.transform(X_train)\n",
    "X_test_std = sc.transform(X_test)"
   ]
  },
  {
   "cell_type": "code",
   "execution_count": 5,
   "metadata": {},
   "outputs": [
    {
     "name": "stderr",
     "output_type": "stream",
     "text": [
      "C:\\Users\\kmlee\\AppData\\Local\\Continuum\\anaconda3\\lib\\site-packages\\sklearn\\linear_model\\stochastic_gradient.py:117: DeprecationWarning: n_iter parameter is deprecated in 0.19 and will be removed in 0.21. Use max_iter and tol instead.\n",
      "  DeprecationWarning)\n"
     ]
    },
    {
     "data": {
      "text/plain": [
       "Perceptron(alpha=0.0001, class_weight=None, eta0=0.1, fit_intercept=True,\n",
       "      max_iter=None, n_iter=40, n_jobs=1, penalty=None, random_state=0,\n",
       "      shuffle=True, tol=None, verbose=0, warm_start=False)"
      ]
     },
     "execution_count": 5,
     "metadata": {},
     "output_type": "execute_result"
    }
   ],
   "source": [
    "from sklearn.linear_model import Perceptron\n",
    "# 퍼셉트론\n",
    "ppn=Perceptron(n_iter=40, eta0=0.1,random_state=0)\n",
    "ppn.fit(X_train_std, y_train.friendly)"
   ]
  },
  {
   "cell_type": "code",
   "execution_count": 6,
   "metadata": {},
   "outputs": [],
   "source": [
    "#훈련 모델의 테스트데이터 예측치\n",
    "y_predP=ppn.predict(X_test_std)"
   ]
  },
  {
   "cell_type": "code",
   "execution_count": 10,
   "metadata": {},
   "outputs": [
    {
     "name": "stdout",
     "output_type": "stream",
     "text": [
      "Misclassified samples: 1\n",
      "Accuracy of Perceptrion: 0.89\n",
      "Recall of Perceptrion: 1.00\n",
      "Precision of Perceptrion: 0.83\n"
     ]
    }
   ],
   "source": [
    "\n",
    "from sklearn.metrics import accuracy_score\n",
    "from sklearn.metrics import recall_score\n",
    "from sklearn.metrics import precision_score\n",
    "print('Misclassified samples: %d' % (y_test.friendly !=y_predP).sum())\n",
    "print('Accuracy of Perceptrion: %.2f' % accuracy_score(y_test.friendly, y_predP)) #전체 정확율\n",
    "print('Recall of Perceptrion: %.2f' % recall_score(y_test.friendly, y_predP)) # 실제로 친한데 예측 모델이 안친하다고 뱉어줄 확률\n",
    "print('Precision of Perceptrion: %.2f' % precision_score(y_test.friendly, y_predP)) # 예측모델이 안 친하다고 뱉어줄 때 실제로 안친할 확률"
   ]
  },
  {
   "cell_type": "code",
   "execution_count": 11,
   "metadata": {},
   "outputs": [
    {
     "name": "stdout",
     "output_type": "stream",
     "text": [
      "Misclassified samples of tree: 3\n",
      "Accuracy of tree: 0.67\n",
      "Recall of tree: 0.40\n",
      "Precision of tree: 1.00\n"
     ]
    }
   ],
   "source": [
    "from sklearn.tree import DecisionTreeClassifier\n",
    "#의사결정 나무\n",
    "tree=DecisionTreeClassifier(criterion='entropy',max_depth=6,random_state=0)\n",
    "tree.fit(X_train_std, y_train.friendly)\n",
    "y_predtree=tree.predict(X_test_std)\n",
    "\n",
    "print('Misclassified samples of tree: %d' % (y_test.friendly !=y_predtree).sum())\n",
    "print('Accuracy of tree: %.2f' % accuracy_score(y_test.friendly, y_predtree)) #전체 정확율\n",
    "print('Recall of tree: %.2f' % recall_score(y_test.friendly, y_predtree)) # 실제로 친한데 예측 모델이 안친하다고 뱉어줄 확률\n",
    "print('Precision of tree: %.2f' % precision_score(y_test.friendly, y_predtree)) # 예측모델이 안 친하다고 뱉어줄 때 실제로 안친할 확률\n"
   ]
  },
  {
   "cell_type": "code",
   "execution_count": 12,
   "metadata": {},
   "outputs": [],
   "source": [
    "tree1=tree.fit(X_train_std, y_train.friendly)"
   ]
  },
  {
   "cell_type": "code",
   "execution_count": 13,
   "metadata": {},
   "outputs": [
    {
     "name": "stdout",
     "output_type": "stream",
     "text": [
      "[0.1524979  0.40142    0.44608211]\n"
     ]
    }
   ],
   "source": [
    "#의사결정나무에서 엔트로피를 낮추는데 공헌한 Feature들의 영향도\n",
    "# 시간당 카톡횟수 / 답장 시간 / 내가 말한 비율\n",
    "print(tree1.feature_importances_)"
   ]
  },
  {
   "cell_type": "code",
   "execution_count": null,
   "metadata": {},
   "outputs": [],
   "source": []
  }
 ],
 "metadata": {
  "kernelspec": {
   "display_name": "Python 3",
   "language": "python",
   "name": "python3"
  },
  "language_info": {
   "codemirror_mode": {
    "name": "ipython",
    "version": 3
   },
   "file_extension": ".py",
   "mimetype": "text/x-python",
   "name": "python",
   "nbconvert_exporter": "python",
   "pygments_lexer": "ipython3",
   "version": "3.6.5"
  }
 },
 "nbformat": 4,
 "nbformat_minor": 2
}
